{
 "cells": [
  {
   "cell_type": "markdown",
   "id": "7196054f",
   "metadata": {},
   "source": [
    "# Working with APIs"
   ]
  },
  {
   "cell_type": "markdown",
   "id": "0547b71e",
   "metadata": {},
   "source": [
    "API stands for Application programming interface<br>\n",
    "APIs are a way for applications to talk to eachother<br>\n",
    "In python we use the requests package to handle the connection<br>\n",
    "<small><strong>Note: It is requests with an s not request(this is a different package)</strong></small><br>\n",
    "Most API's communicate with data in the form of JSON<br>\n",
    "JSON stands for JavaScript Object Notation"
   ]
  },
  {
   "cell_type": "code",
   "execution_count": 5,
   "id": "4db9d154",
   "metadata": {},
   "outputs": [],
   "source": [
    "#import the packages we need:\n",
    "import requests, json"
   ]
  },
  {
   "cell_type": "markdown",
   "id": "e8c2ce51",
   "metadata": {},
   "source": [
    "We will be connecting to the Ergast F1 Racer API today:\n",
    "http://ergast.com/mrd/\n",
    "\n",
    "to view JSON data nicely in the Chrome browser install the extension JSONview"
   ]
  },
  {
   "cell_type": "code",
   "execution_count": 1,
   "id": "52c440c6",
   "metadata": {},
   "outputs": [
    {
     "ename": "NameError",
     "evalue": "name 'h' is not defined",
     "output_type": "error",
     "traceback": [
      "\u001b[1;31m---------------------------------------------------------------------------\u001b[0m",
      "\u001b[1;31mNameError\u001b[0m                                 Traceback (most recent call last)",
      "Cell \u001b[1;32mIn[1], line 1\u001b[0m\n\u001b[1;32m----> 1\u001b[0m h\n",
      "\u001b[1;31mNameError\u001b[0m: name 'h' is not defined"
     ]
    }
   ],
   "source": [
    "help(requests)"
   ]
  },
  {
   "cell_type": "code",
   "execution_count": 8,
   "id": "f60c1b4a",
   "metadata": {},
   "outputs": [],
   "source": [
    "r = requests.get('https://ergast.com/api/f1/2008/driverStandings.json')"
   ]
  },
  {
   "cell_type": "code",
   "execution_count": 10,
   "id": "7b63a204",
   "metadata": {},
   "outputs": [
    {
     "name": "stdout",
     "output_type": "stream",
     "text": [
      "<Response [200]>\n",
      "<class 'requests.models.Response'>\n",
      "True\n"
     ]
    }
   ],
   "source": [
    "#response object\n",
    "#requests.get('https://ergast.com/api/f1/2008/driverStandings.json')\n",
    "response = requests.get('https://ergast.com/api/f1/2008/driverStandings.json')\n",
    "print(response)\n",
    "print(type(response))\n",
    "print(response.ok)"
   ]
  },
  {
   "cell_type": "code",
   "execution_count": 3,
   "id": "c6d1fdaf",
   "metadata": {},
   "outputs": [],
   "source": [
    "#check and make sure we got a successful response from the API\n"
   ]
  },
  {
   "cell_type": "code",
   "execution_count": 4,
   "id": "ed4d3256",
   "metadata": {},
   "outputs": [],
   "source": [
    "#view the response as a JSON\n"
   ]
  },
  {
   "cell_type": "code",
   "execution_count": null,
   "id": "92e6cd2c",
   "metadata": {},
   "outputs": [],
   "source": []
  },
  {
   "cell_type": "code",
   "execution_count": 5,
   "id": "f074dfcf",
   "metadata": {},
   "outputs": [],
   "source": [
    "# We only want the Driver Standings\n"
   ]
  },
  {
   "cell_type": "code",
   "execution_count": null,
   "id": "be46a950",
   "metadata": {},
   "outputs": [],
   "source": []
  },
  {
   "cell_type": "code",
   "execution_count": null,
   "id": "3740c752",
   "metadata": {},
   "outputs": [],
   "source": []
  },
  {
   "cell_type": "markdown",
   "id": "6d546014",
   "metadata": {},
   "source": [
    "# <strong>Homework</strong>\n",
    "check out this Pokemon API https://pokeapi.co/\n",
    "Use the requests package to connect to this API and get and store data for 5 different pokemon.\n",
    "Get the pokemons: name, atleast one ability's name, base_experience, and the URL for its sprite (an image that shows up on screen) for the 'front_shiny', attack base_state, hp base_stat, defense base_stat"
   ]
  },
  {
   "cell_type": "code",
   "execution_count": 11,
   "id": "5a9081e3",
   "metadata": {},
   "outputs": [
    {
     "name": "stdout",
     "output_type": "stream",
     "text": [
      "{'name': 'Blastoise', 'ability': 'Torrent', 'base_experience': 265, 'sprite': 'https://raw.githubusercontent.com/PokeAPI/sprites/master/sprites/pokemon/shiny/9.png', 'ATK_base': 83, 'HP_base': 79, 'DEF_base': 100}\n",
      "{'name': 'Rhyhorn', 'ability': 'Lightning-Rod', 'base_experience': 69, 'sprite': 'https://raw.githubusercontent.com/PokeAPI/sprites/master/sprites/pokemon/shiny/111.png', 'ATK_base': 85, 'HP_base': 80, 'DEF_base': 95}\n",
      "{'name': 'Roselia', 'ability': 'Natural-Cure', 'base_experience': 140, 'sprite': 'https://raw.githubusercontent.com/PokeAPI/sprites/master/sprites/pokemon/shiny/315.png', 'ATK_base': 60, 'HP_base': 50, 'DEF_base': 45}\n",
      "{'name': 'Mewtwo', 'ability': 'Pressure', 'base_experience': 340, 'sprite': 'https://raw.githubusercontent.com/PokeAPI/sprites/master/sprites/pokemon/shiny/150.png', 'ATK_base': 110, 'HP_base': 106, 'DEF_base': 90}\n",
      "{'name': 'Shieldon', 'ability': 'Sturdy', 'base_experience': 70, 'sprite': 'https://raw.githubusercontent.com/PokeAPI/sprites/master/sprites/pokemon/shiny/410.png', 'ATK_base': 42, 'HP_base': 30, 'DEF_base': 118}\n",
      "{'name': 'Mew', 'ability': 'Synchronize', 'base_experience': 300, 'sprite': 'https://raw.githubusercontent.com/PokeAPI/sprites/master/sprites/pokemon/shiny/151.png', 'ATK_base': 100, 'HP_base': 100, 'DEF_base': 100}\n",
      "{'name': 'Jolteon', 'ability': 'Volt-Absorb', 'base_experience': 184, 'sprite': 'https://raw.githubusercontent.com/PokeAPI/sprites/master/sprites/pokemon/shiny/135.png', 'ATK_base': 65, 'HP_base': 65, 'DEF_base': 60}\n"
     ]
    }
   ],
   "source": [
    "import requests\n",
    "\n",
    "\n",
    "def poke_data(name):\n",
    "    url = f'https://pokeapi.co/api/v2/pokemon/{name}'\n",
    "    response = requests.get(url)\n",
    "    data = response.json()\n",
    "    try:\n",
    "        poke_dict = {\n",
    "            'name': data['forms'][0]['name'].title(),\n",
    "            'ability': data['abilities'][0]['ability']['name'].title(),\n",
    "            'base_experience': data['base_experience'],\n",
    "            'sprite': data['sprites']['front_shiny'],\n",
    "            'ATK_base': data['stats'][1]['base_stat'],\n",
    "            'HP_base': data['stats'][0]['base_stat'],\n",
    "            'DEF_base': data['stats'][2]['base_stat']\n",
    "        }\n",
    "        return poke_dict\n",
    "    except IndexError:\n",
    "        return 'Please enter a valid poke name (or number)'\n",
    "\n",
    "# make a list of 5 or more pokemon\n",
    "poke_names = ['9', '111', '315', '150', '410', '151', '135']\n",
    "\n",
    "#use a 'for' loop to insert the pokemon data into the url\n",
    "#call the function in the loop\n",
    "#print the loop for results\n",
    "for name in poke_names:\n",
    "    print(poke_data(name))"
   ]
  },
  {
   "cell_type": "code",
   "execution_count": null,
   "id": "6cd5f1db",
   "metadata": {},
   "outputs": [],
   "source": []
  }
 ],
 "metadata": {
  "kernelspec": {
   "display_name": "Python 3 (ipykernel)",
   "language": "python",
   "name": "python3"
  },
  "language_info": {
   "codemirror_mode": {
    "name": "ipython",
    "version": 3
   },
   "file_extension": ".py",
   "mimetype": "text/x-python",
   "name": "python",
   "nbconvert_exporter": "python",
   "pygments_lexer": "ipython3",
   "version": "3.11.5"
  }
 },
 "nbformat": 4,
 "nbformat_minor": 5
}
